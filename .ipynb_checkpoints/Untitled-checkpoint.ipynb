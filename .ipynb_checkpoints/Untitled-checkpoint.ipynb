{
 "cells": [
  {
   "cell_type": "markdown",
   "id": "a47f04f7-d8b3-40bc-afbf-800484bfd7b8",
   "metadata": {},
   "source": [
    "sns.jointplot(data=customers_num,x='Time on Website',y='Yearly Amount Spent',color='red')\n",
    "plt.savefig('website time vs amount spent jointplot')"
   ]
  },
  {
   "cell_type": "markdown",
   "id": "0424abf9-da57-4eab-ab59-5b17db43a9e8",
   "metadata": {},
   "source": [
    "sns.jointplot(data=customers_num,x='Time on App',y='Yearly Amount Spent',color='green')"
   ]
  },
  {
   "cell_type": "code",
   "execution_count": 2,
   "id": "db14c2af-352d-4da5-8def-8712f09f5d2d",
   "metadata": {},
   "outputs": [],
   "source": [
    "import numpy as np\n",
    "import pandas as pd\n",
    "import matplotlib.pyplot as plt\n",
    "import seaborn as sns"
   ]
  },
  {
   "cell_type": "code",
   "execution_count": null,
   "id": "cbe200c3-2e59-4829-9546-e15abb767781",
   "metadata": {},
   "outputs": [],
   "source": [
    "customers=pd.read_csv(r'Ecommerce Customers')\n",
    "customers.head()"
   ]
  }
 ],
 "metadata": {
  "kernelspec": {
   "display_name": "homl3",
   "language": "python",
   "name": "homl3"
  },
  "language_info": {
   "codemirror_mode": {
    "name": "ipython",
    "version": 3
   },
   "file_extension": ".py",
   "mimetype": "text/x-python",
   "name": "python",
   "nbconvert_exporter": "python",
   "pygments_lexer": "ipython3",
   "version": "3.10.18"
  }
 },
 "nbformat": 4,
 "nbformat_minor": 5
}
